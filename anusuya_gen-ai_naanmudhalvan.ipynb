{
  "cells": [
    {
      "cell_type": "code",
      "execution_count": 2,
      "metadata": {
        "id": "_H1BGEi1l5Vy"
      },
      "outputs": [],
      "source": [
        "import tensorflow as tf\n",
        "from tensorflow import keras"
      ]
    },
    {
      "cell_type": "code",
      "execution_count": 3,
      "metadata": {
        "id": "-QAyLxWalScI"
      },
      "outputs": [],
      "source": [
        "import tensorflow as tf\n",
        "from keras.models import Sequential\n",
        "from keras.layers import Embedding, LSTM, Dense\n",
        "from keras.preprocessing.text import Tokenizer\n",
        "from keras.preprocessing.sequence import pad_sequences\n",
        "import numpy as np\n",
        "import regex as re"
      ]
    },
    {
      "cell_type": "code",
      "execution_count": 4,
      "metadata": {
        "id": "iXdA1V3Pmlbk"
      },
      "outputs": [],
      "source": [
        "import keras.utils"
      ]
    },
    {
      "cell_type": "code",
      "execution_count": 5,
      "metadata": {
        "id": "PJizLhV7mWBx"
      },
      "outputs": [],
      "source": [
        "def file_to_sentence_list(file_path):\n",
        "\twith open(\"medium_data.csv\", 'r') as file:\n",
        "\t\ttext = file.read()\n",
        "\n",
        "\t# Splitting the text into sentences using\n",
        "\t# delimiters like '.', '?', and '!'\n",
        "\tsentences = [sentence.strip() for sentence in re.split(r'(?<=[.!?])\\s+', text) if sentence.strip()]\n",
        "\n",
        "\treturn sentences\n",
        "\n",
        "file_path = 'data.txt'\n",
        "text_data = file_to_sentence_list(file_path)\n",
        "\n",
        "# Tokenize the text data\n",
        "tokenizer = Tokenizer()\n",
        "tokenizer.fit_on_texts(text_data)\n",
        "total_words = len(tokenizer.word_index) + 1\n",
        "\n",
        "# Create input sequences\n",
        "input_sequences = []\n",
        "for line in text_data:\n",
        "\ttoken_list = tokenizer.texts_to_sequences([line])[0]\n",
        "\tfor i in range(1, len(token_list)):\n",
        "\t\tn_gram_sequence = token_list[:i+1]\n",
        "\t\tinput_sequences.append(n_gram_sequence)\n",
        "\n",
        "# Pad sequences and split into predictors and label\n",
        "max_sequence_len = max([len(seq) for seq in input_sequences])\n",
        "input_sequences = np.array(pad_sequences(\n",
        "\tinput_sequences, maxlen=max_sequence_len, padding='pre'))\n",
        "X, y = input_sequences[:, :-1], input_sequences[:, -1]\n",
        "\n",
        "# Convert target data to one-hot encoding\n",
        "y =keras.utils.to_categorical(y, num_classes=total_words)\n"
      ]
    },
    {
      "cell_type": "code",
      "execution_count": 6,
      "metadata": {
        "id": "aNFUFVj1mvQE"
      },
      "outputs": [],
      "source": [
        "# Define the model\n",
        "model = Sequential()\n",
        "model.add(Embedding(total_words, 10,\n",
        "\t\t\t\t\tinput_length=max_sequence_len-1))\n",
        "model.add(LSTM(128))\n",
        "model.add(Dense(total_words, activation='softmax'))\n",
        "model.compile(loss='categorical_crossentropy',\n",
        "\t\t\toptimizer='adam', metrics=['accuracy'])\n"
      ]
    },
    {
      "cell_type": "code",
      "execution_count": null,
      "metadata": {
        "id": "ejGqFGRGmw-n"
      },
      "outputs": [],
      "source": [
        "# Train the model\n",
        "model.fit(X, y, epochs=1, verbose=1)\n"
      ]
    },
    {
      "cell_type": "code",
      "execution_count": null,
      "metadata": {
        "id": "XYdTV61cwlb-"
      },
      "outputs": [],
      "source": [
        "# Generate next word predictions\n",
        "seed_text = \"It is not a\"\n",
        "next_words = 2\n",
        "\n",
        "for _ in range(next_words):\n",
        "\ttoken_list = tokenizer.texts_to_sequences([seed_text])[0]\n",
        "\ttoken_list = pad_sequences(\n",
        "\t\t[token_list], maxlen=max_sequence_len-1, padding='pre')\n",
        "\tpredicted_probs = model.predict(token_list)\n",
        "\tpredicted_word = tokenizer.index_word[np.argmax(predicted_probs)]\n",
        "\tseed_text += \" \" + predicted_word\n",
        "\n"
      ]
    },
    {
      "cell_type": "code",
      "execution_count": null,
      "metadata": {
        "id": "dkNFULsUwzNZ"
      },
      "outputs": [],
      "source": [
        "print(\"Next predicted words:\", seed_text)"
      ]
    }
  ],
  "metadata": {
    "colab": {
      "provenance": []
    },
    "kernelspec": {
      "display_name": "Python 3",
      "name": "python3"
    },
    "language_info": {
      "name": "python"
    }
  },
  "nbformat": 4,
  "nbformat_minor": 0
}